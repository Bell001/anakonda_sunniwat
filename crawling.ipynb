{
 "cells": [
  {
   "cell_type": "code",
   "execution_count": 9,
   "metadata": {},
   "outputs": [],
   "source": [
    "import tweepy\n",
    "import json\n",
    "\n",
    "consumer_key = 'Z0SBNRfeu2ILIGPkh92XYOjlG'\n",
    "consumer_secret = 'eutGcIHzvi9KuFTnBDs4k6NsmoMQRfBYtmXPjm5IvW64Ziqyu1'\n",
    "access_token = '145576185-KgDQBGa7dnawsSFH2BbQvC0wjUnKmHwQhSOFsUPm'\n",
    "access_secret = 'Eu58gEjGmQAmMv0A6tDpfRs8gpVDarhr1lTurmaKgyq5H'\n",
    "\n",
    "# Creating the authentication object\n",
    "auth = tweepy.OAuthHandler(consumer_key, consumer_secret)\n",
    "# Setting your access token and secret\n",
    "auth.set_access_token(access_token, access_secret)\n",
    "\n",
    "# Creating the API object while passing in auth information\n",
    "api = tweepy.API(auth)"
   ]
  },
  {
   "cell_type": "code",
   "execution_count": 24,
   "metadata": {},
   "outputs": [],
   "source": [
    "def json_to_file(filename, data):\n",
    "    with open(filename, 'a') as outfile:\n",
    "#         outfile.write(data)\n",
    "        outfile.write(json.dumps(data))"
   ]
  },
  {
   "cell_type": "code",
   "execution_count": 21,
   "metadata": {},
   "outputs": [],
   "source": [
    "sweat16_screennames = ['Pada_Sweat16', 'Proud_Sweat16', \n",
    "                       'Ant_Sweat16', 'Petch_Sweat16', 'Ae_Sweat16', \n",
    "                       'anny_sweat16', 'MahnmookSweat16', 'Mint_Sweat16', \n",
    "                      'Pim_Sweat16', 'Sonja_Sweat16', 'Music_Sweat16', 'Fame_Sweat16', \n",
    "                       'Nink_Sweat16']\n",
    "# len(sweat16_screennames)"
   ]
  },
  {
   "cell_type": "code",
   "execution_count": 23,
   "metadata": {},
   "outputs": [],
   "source": [
    "# get sweat16 member's user\n",
    "sweat16_users = []\n",
    "for screenname in sweat16_screennames:\n",
    "    user = api.get_user(screenname)\n",
    "    sweat16_users.append(user)\n"
   ]
  },
  {
   "cell_type": "code",
   "execution_count": 26,
   "metadata": {},
   "outputs": [],
   "source": [
    "# json_to_file('sweat16_users.json', sweat16_users)"
   ]
  },
  {
   "cell_type": "code",
   "execution_count": null,
   "metadata": {},
   "outputs": [],
   "source": [
    "# The Twitter user who we want to get his followers\n",
    "name = \"AmmyBlabla\"\n",
    "\n",
    "# Calling the friends_ids function with our parameters\n",
    "results = api.followers_ids(screen_name=name)\n",
    "\n",
    "# foreach through all followers pulled\n",
    "for id in results:\n",
    "    user_info = api.get_user(id)\n",
    "    # printing the user's id and screen name\n",
    "    print(id,\"->\",user_info.screen_name)"
   ]
  }
 ],
 "metadata": {
  "kernelspec": {
   "display_name": "Python 3",
   "language": "python",
   "name": "python3"
  },
  "language_info": {
   "codemirror_mode": {
    "name": "ipython",
    "version": 3
   },
   "file_extension": ".py",
   "mimetype": "text/x-python",
   "name": "python",
   "nbconvert_exporter": "python",
   "pygments_lexer": "ipython3",
   "version": "3.6.4"
  }
 },
 "nbformat": 4,
 "nbformat_minor": 2
}
